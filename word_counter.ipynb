{
  "nbformat": 4,
  "nbformat_minor": 0,
  "metadata": {
    "colab": {
      "name": "word_counter.ipynb",
      "provenance": [],
      "authorship_tag": "ABX9TyN4chHv/Ayuuig/42ovbjWc",
      "include_colab_link": true
    },
    "kernelspec": {
      "name": "python3",
      "display_name": "Python 3"
    }
  },
  "cells": [
    {
      "cell_type": "markdown",
      "metadata": {
        "id": "view-in-github",
        "colab_type": "text"
      },
      "source": [
        "<a href=\"https://colab.research.google.com/github/wishwagayan/python-word-counter-/blob/main/word_counter.ipynb\" target=\"_parent\"><img src=\"https://colab.research.google.com/assets/colab-badge.svg\" alt=\"Open In Colab\"/></a>"
      ]
    },
    {
      "cell_type": "code",
      "metadata": {
        "id": "TCBPlj-Bn-IR"
      },
      "source": [
        "class Text:\r\n",
        "\r\n",
        "  text = None\r\n",
        "\r\n",
        "  def __init__(self,text):\r\n",
        "    \"\"\"\r\n",
        "    Function : Constructor for the Text Class\r\n",
        "    Arguments: text content\r\n",
        "    \"\"\"\r\n",
        "    self.text = text\r\n",
        "  \r\n",
        "  def word_counter(self):\r\n",
        "    \"\"\"\r\n",
        "    Function : count word frequencis in the given text\r\n",
        "    arguments: None\r\n",
        "    \"\"\"\r\n",
        "    words = {}\r\n",
        "    if  bool(type(self.text) == str) & bool(len(self.text)!= 0) :\r\n",
        "      for word in self.text.split(\" \"):\r\n",
        "        if word in words:\r\n",
        "          words[word] += 1\r\n",
        "        else :\r\n",
        "          words[word] = 1\r\n",
        "    return words\r\n",
        "\r\n",
        "\r\n",
        "  \r\n"
      ],
      "execution_count": null,
      "outputs": []
    },
    {
      "cell_type": "code",
      "metadata": {
        "colab": {
          "base_uri": "https://localhost:8080/"
        },
        "id": "iMLH0hH4tDfJ",
        "outputId": "cf37743d-7fe6-413d-fffb-7deece1424ad"
      },
      "source": [
        "text_input = input(\"prompt\")\r\n",
        "text_processig = Text(text_input) \r\n",
        "words_count = text_processig.word_counter()\r\n",
        "\r\n",
        "for word in words_count:\r\n",
        "  print(\r\n",
        "     str(word) + \"\\t\" +str(words_count[word])\r\n",
        "  )"
      ],
      "execution_count": null,
      "outputs": [
        {
          "output_type": "stream",
          "text": [
            "promptAs I was waiting, a man came out of a side room, and at a glance I was sure he must be Long John. His left leg was cut off close by the hip, and under the left shoulder he carried a crutch, which he managed with wonderful dexterity, hopping about upon it like a bird. He was very tall and strong, with a face as big as a ham—plain and pale, but intelligent and smiling. Indeed, he seemed in the most cheerful spirits, whistling as he moved about among the tables, with a merry word or a slap on the shoulder for the more favoured of his guests.\n",
            "As\t1\n",
            "I\t2\n",
            "was\t4\n",
            "waiting,\t1\n",
            "a\t9\n",
            "man\t1\n",
            "came\t1\n",
            "out\t1\n",
            "of\t2\n",
            "side\t1\n",
            "room,\t1\n",
            "and\t5\n",
            "at\t1\n",
            "glance\t1\n",
            "sure\t1\n",
            "he\t5\n",
            "must\t1\n",
            "be\t1\n",
            "Long\t1\n",
            "John.\t1\n",
            "His\t1\n",
            "left\t2\n",
            "leg\t1\n",
            "cut\t1\n",
            "off\t1\n",
            "close\t1\n",
            "by\t1\n",
            "the\t6\n",
            "hip,\t1\n",
            "under\t1\n",
            "shoulder\t2\n",
            "carried\t1\n",
            "crutch,\t1\n",
            "which\t1\n",
            "managed\t1\n",
            "with\t3\n",
            "wonderful\t1\n",
            "dexterity,\t1\n",
            "hopping\t1\n",
            "about\t2\n",
            "upon\t1\n",
            "it\t1\n",
            "like\t1\n",
            "bird.\t1\n",
            "He\t1\n",
            "very\t1\n",
            "tall\t1\n",
            "strong,\t1\n",
            "face\t1\n",
            "as\t3\n",
            "big\t1\n",
            "ham—plain\t1\n",
            "pale,\t1\n",
            "but\t1\n",
            "intelligent\t1\n",
            "smiling.\t1\n",
            "Indeed,\t1\n",
            "seemed\t1\n",
            "in\t1\n",
            "most\t1\n",
            "cheerful\t1\n",
            "spirits,\t1\n",
            "whistling\t1\n",
            "moved\t1\n",
            "among\t1\n",
            "tables,\t1\n",
            "merry\t1\n",
            "word\t1\n",
            "or\t1\n",
            "slap\t1\n",
            "on\t1\n",
            "for\t1\n",
            "more\t1\n",
            "favoured\t1\n",
            "his\t1\n",
            "guests.\t1\n"
          ],
          "name": "stdout"
        }
      ]
    },
    {
      "cell_type": "code",
      "metadata": {
        "id": "omqXAjYCuEPE"
      },
      "source": [
        ""
      ],
      "execution_count": null,
      "outputs": []
    }
  ]
}